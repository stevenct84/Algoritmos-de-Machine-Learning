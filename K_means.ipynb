{
  "nbformat": 4,
  "nbformat_minor": 0,
  "metadata": {
    "colab": {
      "provenance": [],
      "collapsed_sections": [],
      "authorship_tag": "ABX9TyPzSQWV14Scsg+3EVVvvXu6",
      "include_colab_link": true
    },
    "kernelspec": {
      "name": "python3",
      "display_name": "Python 3"
    },
    "language_info": {
      "name": "python"
    }
  },
  "cells": [
    {
      "cell_type": "markdown",
      "metadata": {
        "id": "view-in-github",
        "colab_type": "text"
      },
      "source": [
        "<a href=\"https://colab.research.google.com/github/stevenct84/Algoritmos-de-Machine-Learning/blob/main/K_means.ipynb\" target=\"_parent\"><img src=\"https://colab.research.google.com/assets/colab-badge.svg\" alt=\"Open In Colab\"/></a>"
      ]
    },
    {
      "cell_type": "code",
      "execution_count": null,
      "metadata": {
        "id": "8gPWeTFfLMpB"
      },
      "outputs": [],
      "source": [
        "import pandas as pd\n",
        "import numpy as np\n",
        "import matplotlib.pyplot as plt\n",
        "import plotly.express as px\n",
        "import time"
      ]
    },
    {
      "cell_type": "code",
      "source": [
        "#Subir el archivo csv\n",
        "#Seleccionar el dataset (Players.csv)\n",
        "from google.colab import files\n",
        "files.upload()"
      ],
      "metadata": {
        "id": "_aKXWY7odL7-"
      },
      "execution_count": null,
      "outputs": []
    },
    {
      "cell_type": "code",
      "source": [
        "#cargar el dataset usando pandas\n",
        "players=pd.read_csv('Players.csv',sep=';')\n",
        "players"
      ],
      "metadata": {
        "id": "0gjcBLI-Lf0z"
      },
      "execution_count": null,
      "outputs": []
    },
    {
      "cell_type": "code",
      "source": [
        "#Seleccionar las columnas que se van a usar.\n",
        "#Eliminar los datos vacios con dropna\n",
        "features=[\"overall\", \"potential\", \"wage_eur\", \"value_eur\", \"age\"] \n",
        "players=players.dropna(subset=features)\n",
        "dataPlayer=players[features].copy()\n",
        "dataPlayer"
      ],
      "metadata": {
        "id": "dD9pmjrZNcjY"
      },
      "execution_count": null,
      "outputs": []
    },
    {
      "cell_type": "code",
      "source": [
        "#mostrar algunas estadisticas sobre el dataframe\n",
        "dataPlayer.describe()"
      ],
      "metadata": {
        "id": "GLQSZ_lBc4ZJ"
      },
      "execution_count": null,
      "outputs": []
    },
    {
      "cell_type": "code",
      "source": [
        "#Crear un nuevo dataframe\n",
        "#Para crear los datos nuevos según las estadisticas de dataPlayer\n",
        "data=pd.DataFrame()"
      ],
      "metadata": {
        "id": "NwL-B1mRgedg"
      },
      "execution_count": null,
      "outputs": []
    },
    {
      "cell_type": "code",
      "source": [
        "#Se crean nuevas columnas en el dataframe\n",
        "#Los nuevos datos se crean entre 2 intervalos y una cantidad de datos.\n",
        "data[\"overall\"]=np.random.randint(low=47, high=93, size=(70000,))\n",
        "data[\"potential\"]=np.random.randint(low=49, high=95, size=(70000,))\n",
        "data[\"wage_eur\"]=np.random.randint(low=500, high=350000, size=(70000,))\n",
        "data[\"value_eur\"]=np.random.randint(low=900, high=194000000, size=(70000,))\n",
        "data[\"age\"]=np.random.randint(low=16, high=43, size=(70000,))"
      ],
      "metadata": {
        "id": "fORNgqhGgSq_"
      },
      "execution_count": null,
      "outputs": []
    },
    {
      "cell_type": "code",
      "source": [
        "#Ver las estadisticas del dataframe que se utiliza para el algoritmo\n",
        "data.describe()"
      ],
      "metadata": {
        "id": "pCI4WaLmgqjQ"
      },
      "execution_count": null,
      "outputs": []
    },
    {
      "cell_type": "code",
      "source": [
        "#Pasos a seguir para realizar el algoritmo de k-means\n",
        "#Escalar los datos\n",
        "#Inicializar los centroides de manera random\n",
        "#(calcular la distancia entre los puntos)\n",
        "#Actualizar los centroides\n",
        "#Repetir 3 y 4 hasta que los centroides paren de cambiar\n"
      ],
      "metadata": {
        "id": "ctG1SJfNmVKP"
      },
      "execution_count": null,
      "outputs": []
    },
    {
      "cell_type": "code",
      "source": [
        "#Escalar los datos\n",
        "#Hay datos que tiene rangos muy grandes, \n",
        "#se piensa cambiar para obtener todo entre 1 a 10\n",
        "data= ((data-data.min())/(data.max()-data.min()))*9 + 1"
      ],
      "metadata": {
        "id": "-RBMu4UqnU0N"
      },
      "execution_count": null,
      "outputs": []
    },
    {
      "cell_type": "code",
      "source": [
        "#asignar las variables globales para contar asignacioes y comparaciones \n",
        "asignacion, comparacion,linea=0,0,0\n",
        "\n",
        "#crear los centroides random\n",
        "#Data: los datos del dataset\n",
        "#K: la cantidad de clusters que queremos\n",
        "#Selecciona un dato random de cada columna y lo coloca como float\n",
        "def random_centroids(data, k):\n",
        "  global asignacion, linea, comparacion\n",
        "  asignacion += 1\n",
        "  linea+=1\n",
        "  centroids = []\n",
        "  for i in range(k):\n",
        "    comparacion+=1\n",
        "    asignacion+=2\n",
        "    linea+=3\n",
        "    centroid = data.apply(lambda x: float(x.sample())) \n",
        "    centroids.append(centroid)\n",
        "  comparacion+=1\n",
        "  linea+=2\n",
        "  return pd.concat(centroids, axis=1) #combina todas las series de pandas en un dataframe\n",
        "\n",
        "\n",
        "#Crear la etiqueta en cada punto de datos\n",
        "#Calcular la distancia entre los centroides y los datos\n",
        "#data: todos los datos\n",
        "#centroids: los centroides actuales del programa\n",
        "def get_labels(data, centroids):\n",
        "  global asignacion, linea\n",
        "  asignacion+=1\n",
        "  linea+=2\n",
        "  distances=centroids.apply(lambda x: np.sqrt(((data-x)**2).sum(axis=1)))\n",
        "  return distances.idxmin(axis=1)\n",
        "\n",
        "#Se calcula los centroides nuevos\n",
        "#data: los datos del dataset\n",
        "#labels: distancias de los puntos al centroide\n",
        "def new_centroids(data, labels, k):\n",
        "    global asignacion, linea\n",
        "    asignacion+=1\n",
        "    linea+=2\n",
        "    centroids = data.groupby(labels).apply(lambda x: np.exp(np.log(x).mean())).T\n",
        "    return centroids\n",
        "\n",
        "\n",
        "#Funcion principal, llama a las demás creadas\n",
        "#data:los datos del dataset\n",
        "#centroid_count: cantidad de grupos que se desean realizar\n",
        "def kMeans(data,centroid_count):\n",
        "  inicio = time.time()\n",
        "  global asignacion, linea, comparacion\n",
        "  asignacion+=1\n",
        "  linea+=4\n",
        "  max_iterations = 100  \n",
        "  asignacion=+3\n",
        "  centroids = random_centroids(data, centroid_count)  #asignar de manera aleatoria los centroides\n",
        "  old_centroids = pd.DataFrame()\n",
        "  iteration = 1\n",
        "\n",
        "  while iteration < max_iterations and not centroids.equals(old_centroids):  #verificar si se debe finalizar\n",
        "      linea+=5\n",
        "      comparacion+=2\n",
        "      asignacion+=4\n",
        "      old_centroids = centroids\n",
        "      labels = get_labels(data, centroids)\n",
        "      centroids = new_centroids(data, labels, centroid_count)\n",
        "      iteration += 1\n",
        "  linea+=2\n",
        "  comparacion+=2\n",
        "  fin = time.time()\n",
        "  tiempo= fin-inicio\n",
        "  print(\"Tiempo: %.4f seconds.\" %tiempo)\n",
        "  return centroids\n",
        "\n",
        "#Correr el algoritmo de K-means\n",
        "centroids=kMeans(data,4)\n",
        "print(\"Asignaciones:\")\n",
        "print(asignacion)\n",
        "print(\"Comparacaciones:\")\n",
        "print(comparacion)\n",
        "print(\"Lineas ejecutadas:\")\n",
        "print (linea)\n",
        "\n"
      ],
      "metadata": {
        "colab": {
          "base_uri": "https://localhost:8080/"
        },
        "id": "nqaiuTZcBs5M",
        "outputId": "a29152c2-c6b5-4703-91be-24e39451365a"
      },
      "execution_count": null,
      "outputs": [
        {
          "output_type": "stream",
          "name": "stdout",
          "text": [
            "Tiempo: 10.2642 seconds.\n",
            "Asignaciones:\n",
            "450\n",
            "Comparacaciones:\n",
            "153\n",
            "Lineas ejecutadas:\n",
            "678\n"
          ]
        }
      ]
    },
    {
      "cell_type": "code",
      "source": [
        "#Graficar el resultado\n",
        "import matplotlib.pyplot as plt\n",
        "#se agrega al dataset la columna label para etiquetar los resultados\n",
        "labels=get_labels(data, centroids)\n",
        "data[\"label\"]=labels\n",
        "u_labels = np.unique(labels)\n",
        " \n",
        "#graficar el resultado\n",
        "for i in u_labels:\n",
        "    plt.scatter(x=data[\"overall\"][data[\"label\"]==i] ,y= data[\"potential\"][data[\"label\"]==i] , label = i)\n",
        "plt.scatter(centroids.iloc[0,] , centroids.iloc[1,] , s = 80, color = 'k')\n",
        "plt.legend()\n",
        "plt.show()"
      ],
      "metadata": {
        "id": "sAKNo0Hzii2U"
      },
      "execution_count": null,
      "outputs": []
    }
  ]
}